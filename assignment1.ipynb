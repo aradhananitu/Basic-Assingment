{
 "cells": [
  {
   "cell_type": "markdown",
   "id": "113cad70",
   "metadata": {},
   "source": [
    "# 1.\tWrite a Python program to print \"Hello Python\"?"
   ]
  },
  {
   "cell_type": "code",
   "execution_count": 1,
   "id": "b0fb2237",
   "metadata": {},
   "outputs": [
    {
     "name": "stdout",
     "output_type": "stream",
     "text": [
      "Hello Python\n"
     ]
    }
   ],
   "source": [
    "print(\"Hello Python\")"
   ]
  },
  {
   "cell_type": "markdown",
   "id": "a6287ae6",
   "metadata": {},
   "source": [
    "# 2.\tWrite a Python program to do arithmetical operations addition and division.?"
   ]
  },
  {
   "cell_type": "code",
   "execution_count": 2,
   "id": "938a87f2",
   "metadata": {},
   "outputs": [
    {
     "name": "stdout",
     "output_type": "stream",
     "text": [
      "Addition is 109\n",
      "Division is 1.4772727272727273\n"
     ]
    }
   ],
   "source": [
    "x=65\n",
    "y=44\n",
    "print(f\"Addition is {x+y}\\nDivision is {x/y}\")"
   ]
  },
  {
   "cell_type": "markdown",
   "id": "3221c0ff",
   "metadata": {},
   "source": [
    "# 3.\tWrite a Python program to find the area of a triangle?"
   ]
  },
  {
   "cell_type": "code",
   "execution_count": 4,
   "id": "8c655ee4",
   "metadata": {},
   "outputs": [
    {
     "name": "stdout",
     "output_type": "stream",
     "text": [
      "enter the value of base:24\n",
      "enter the value of height:12.5\n",
      "Area of Tringle is: 150.0\n"
     ]
    }
   ],
   "source": [
    "Base=float(input(\"enter the value of base:\"))\n",
    "Height=float(input(\"enter the value of height:\"))\n",
    "Area=(0.5*Base*Height)\n",
    "print(\"Area of Tringle is:\",Area)\n"
   ]
  },
  {
   "cell_type": "markdown",
   "id": "8a8ae22a",
   "metadata": {},
   "source": [
    "# 4.\tWrite a Python program to swap two variables?"
   ]
  },
  {
   "cell_type": "code",
   "execution_count": 9,
   "id": "0ec15000",
   "metadata": {},
   "outputs": [
    {
     "name": "stdout",
     "output_type": "stream",
     "text": [
      "Before swapping\n",
      "the value of a=10 and value of b=20\n",
      "After swapping\n",
      "the value of a=20 and value of is b=10\n"
     ]
    }
   ],
   "source": [
    "a=10\n",
    "b=20\n",
    "print(f\"Before swapping\\nthe value of a={a} and value of b={b}\")\n",
    "temp=a#10\n",
    "a=b#20\n",
    "b=temp#10\n",
    "print(f\"After swapping\\nthe value of a={a} and value of is b={b}\")\n"
   ]
  },
  {
   "cell_type": "markdown",
   "id": "b76fd8c5",
   "metadata": {},
   "source": [
    "# 5.\tWrite a Python program to generate a random number?"
   ]
  },
  {
   "cell_type": "code",
   "execution_count": 23,
   "id": "f38f91fc",
   "metadata": {},
   "outputs": [
    {
     "name": "stdout",
     "output_type": "stream",
     "text": [
      "random number is: 317\n"
     ]
    }
   ],
   "source": [
    "import random\n",
    "x=random.randint(1,1000)\n",
    "print(\"random number is:\",x)"
   ]
  }
 ],
 "metadata": {
  "kernelspec": {
   "display_name": "Python 3 (ipykernel)",
   "language": "python",
   "name": "python3"
  },
  "language_info": {
   "codemirror_mode": {
    "name": "ipython",
    "version": 3
   },
   "file_extension": ".py",
   "mimetype": "text/x-python",
   "name": "python",
   "nbconvert_exporter": "python",
   "pygments_lexer": "ipython3",
   "version": "3.9.12"
  }
 },
 "nbformat": 4,
 "nbformat_minor": 5
}
