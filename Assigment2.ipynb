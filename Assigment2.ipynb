{
 "cells": [
  {
   "cell_type": "markdown",
   "id": "a48cae55",
   "metadata": {},
   "source": [
    "# Write a Python program to convert kilometers to miles?"
   ]
  },
  {
   "cell_type": "code",
   "execution_count": 4,
   "id": "d3367ba6",
   "metadata": {},
   "outputs": [
    {
     "name": "stdout",
     "output_type": "stream",
     "text": [
      "Enter the no. in KM:8.5\n",
      "8.5 km is equal to :5.2785 miles\n"
     ]
    }
   ],
   "source": [
    "def convert(n):\n",
    "    one_km=0.621   #0.621miles\n",
    "    return(x*one_km)\n",
    "\n",
    "x=float(input(\"Enter the no. in KM:\"))\n",
    "miles=convert(1)\n",
    "print(f\"{x} km is equal to :{miles} miles\" )\n"
   ]
  },
  {
   "cell_type": "markdown",
   "id": "7ba9046c",
   "metadata": {},
   "source": [
    "# Write a Python program to convert Celsius to Fahrenheit?"
   ]
  },
  {
   "cell_type": "code",
   "execution_count": 8,
   "id": "1aa2d1ad",
   "metadata": {},
   "outputs": [
    {
     "name": "stdout",
     "output_type": "stream",
     "text": [
      "Enter a no. in degree celsius45\n",
      "45.0 celsius is equal to:1520.9999999999998F\n"
     ]
    }
   ],
   "source": [
    "x=float(input(\"Enter a no. in degree celsius\"))\n",
    "def celsius(x):\n",
    "    one_degreecelsius=33.8 \n",
    "    return(x*one_degreecelsius)\n",
    "R=celsius(x)\n",
    "\n",
    "print(f\"{x} celsius is equal to:{R}F\")\n"
   ]
  },
  {
   "cell_type": "markdown",
   "id": "32099b0f",
   "metadata": {},
   "source": [
    "# Write a Python program to display calendar?"
   ]
  },
  {
   "cell_type": "code",
   "execution_count": 17,
   "id": "77bc37d1",
   "metadata": {},
   "outputs": [
    {
     "name": "stdout",
     "output_type": "stream",
     "text": [
      "enter the year:2022\n",
      "enter the month:6\n",
      "     June 2022\n",
      "Mo Tu We Th Fr Sa Su\n",
      "       1  2  3  4  5\n",
      " 6  7  8  9 10 11 12\n",
      "13 14 15 16 17 18 19\n",
      "20 21 22 23 24 25 26\n",
      "27 28 29 30\n",
      "\n"
     ]
    }
   ],
   "source": [
    "import calendar\n",
    "y=int(input(\"enter the year:\"))\n",
    "m=int(input(\"enter the month:\"))\n",
    "print(calendar.month(y, m))"
   ]
  },
  {
   "cell_type": "markdown",
   "id": "5c6abad2",
   "metadata": {},
   "source": [
    "# Write a Python program to solve quadratic equation?\n"
   ]
  },
  {
   "cell_type": "code",
   "execution_count": 26,
   "id": "f9f88460",
   "metadata": {},
   "outputs": [
    {
     "name": "stdout",
     "output_type": "stream",
     "text": [
      "Enter the value of a:1\n",
      "Enter the value of b:5\n",
      "Enter the value of c:6\n",
      "The solution are -3.0 and -2.0\n"
     ]
    }
   ],
   "source": [
    "#ax**2+bx+c=0\n",
    "#where a , b ,c are real number and\n",
    "#a!0\n",
    "\n",
    "\n",
    "import math\n",
    "a=int(input(\"Enter the value of a:\"))\n",
    "b=int(input(\"Enter the value of b:\"))\n",
    "c=int(input(\"Enter the value of c:\"))\n",
    "\n",
    "#calculate the value of discriminant\n",
    "d=(b**2)-(4*a*c)\n",
    "\n",
    "#find two solutions\n",
    "\n",
    "sol1=(-b-math.sqrt(d))/(2*a)\n",
    "sol2=(-b+math.sqrt(d))/(2*a)\n",
    "\n",
    "print(f\"The solution are {sol1} and {sol2}\")"
   ]
  },
  {
   "cell_type": "markdown",
   "id": "acd510bc",
   "metadata": {},
   "source": [
    "# Write a Python program to swap two variables without temp variable?"
   ]
  },
  {
   "cell_type": "code",
   "execution_count": 30,
   "id": "602ab8a1",
   "metadata": {},
   "outputs": [
    {
     "name": "stdout",
     "output_type": "stream",
     "text": [
      "enter the value of X:10\n",
      "enter the value of Y:24\n",
      "value of x after swaping is:24\n",
      "value of y after swaping is:10\n"
     ]
    }
   ],
   "source": [
    "#let x=10\n",
    "#y=24\n",
    "#we have swap both the value with each other\n",
    "#i.e x=24 & y=10\n",
    "\n",
    "\n",
    "x=int(input(\"enter the value of X:\"))\n",
    "y=int(input(\"enter the value of Y:\"))\n",
    "\n",
    "#lets take a as a temparary value\n",
    "a=x\n",
    "x=y\n",
    "y=a\n",
    "\n",
    "print(f\"value of x after swaping is:{x}\")\n",
    "print(f\"value of y after swaping is:{y}\")\n",
    "      "
   ]
  },
  {
   "cell_type": "code",
   "execution_count": null,
   "id": "452cbea4",
   "metadata": {},
   "outputs": [],
   "source": []
  }
 ],
 "metadata": {
  "kernelspec": {
   "display_name": "Python 3 (ipykernel)",
   "language": "python",
   "name": "python3"
  },
  "language_info": {
   "codemirror_mode": {
    "name": "ipython",
    "version": 3
   },
   "file_extension": ".py",
   "mimetype": "text/x-python",
   "name": "python",
   "nbconvert_exporter": "python",
   "pygments_lexer": "ipython3",
   "version": "3.9.12"
  }
 },
 "nbformat": 4,
 "nbformat_minor": 5
}
